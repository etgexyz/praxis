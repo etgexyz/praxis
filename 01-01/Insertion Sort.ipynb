{
 "cells": [
  {
   "cell_type": "code",
   "execution_count": 33,
   "metadata": {},
   "outputs": [],
   "source": [
    "angka = [4,1,6,2,12]"
   ]
  },
  {
   "cell_type": "code",
   "execution_count": 34,
   "metadata": {},
   "outputs": [],
   "source": [
    "def insert_sort(val):\n",
    "    \n",
    "    for index in range(1,len(val)):\n",
    " \n",
    "     valueaktif = val[index]\n",
    "     posisi = index\n",
    " \n",
    "     while posisi>0 and val[posisi-1]>valueaktif:\n",
    "         val[posisi]=val[posisi-1]\n",
    "         posisi = posisi-1\n",
    " \n",
    "     val[posisi]=valueaktif\n",
    "    \n",
    "    \n",
    "    return val\n",
    "    #for i in range(1, len(arr)):\n",
    "        \n",
    "     #   valueaktif = arr[i]\n",
    "     #   posisi = i\n",
    "        \n",
    "        #while i > 0 and arr[i-1] > valueaktif:\n",
    "            #arr[posisi] = arr[posisi-1]\n",
    "            #posisi = posisi-1\n",
    "            \n",
    "        #arr[posisi] =  valueaktif\n",
    "    #return arr\n",
    "        "
   ]
  },
  {
   "cell_type": "code",
   "execution_count": 35,
   "metadata": {},
   "outputs": [
    {
     "name": "stdout",
     "output_type": "stream",
     "text": [
      "Sebelum diurutkan : [4, 1, 6, 2, 12]\n",
      "Sesudah diurutkan : [1, 2, 4, 6, 12]\n"
     ]
    }
   ],
   "source": [
    "print (\"Sebelum diurutkan :\",angka)\n",
    "print (\"Sesudah diurutkan :\", insert_sort(angka))\n"
   ]
  }
 ],
 "metadata": {
  "kernelspec": {
   "display_name": "Python 3",
   "language": "python",
   "name": "python3"
  },
  "language_info": {
   "codemirror_mode": {
    "name": "ipython",
    "version": 3
   },
   "file_extension": ".py",
   "mimetype": "text/x-python",
   "name": "python",
   "nbconvert_exporter": "python",
   "pygments_lexer": "ipython3",
   "version": "3.7.3"
  }
 },
 "nbformat": 4,
 "nbformat_minor": 2
}
