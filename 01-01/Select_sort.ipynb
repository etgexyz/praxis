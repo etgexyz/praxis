{
 "cells": [
  {
   "cell_type": "code",
   "execution_count": 50,
   "metadata": {},
   "outputs": [],
   "source": [
    "angka = [4,1,6,2,12]"
   ]
  },
  {
   "cell_type": "code",
   "execution_count": 51,
   "metadata": {},
   "outputs": [],
   "source": [
    "def  select_sort(arr):\n",
    "    \n",
    "    n = len(arr)\n",
    "    \n",
    "    for i in range(n-1,0,-1):\n",
    "        Max = 0\n",
    "        for lokasi in range(1, i+1):\n",
    "            if arr[lokasi] > arr[Max]:\n",
    "                Max = lokasi\n",
    "        \n",
    "        temp = arr[i]\n",
    "        arr[i] = arr[Max]\n",
    "        arr[Max] = temp\n",
    "    \n",
    "    \n",
    "    "
   ]
  },
  {
   "cell_type": "code",
   "execution_count": 52,
   "metadata": {},
   "outputs": [
    {
     "name": "stdout",
     "output_type": "stream",
     "text": [
      "[4, 1, 6, 2, 12]\n",
      "[1, 2, 4, 6, 12]\n"
     ]
    }
   ],
   "source": [
    "print(angka)\n",
    "select_sort(angka)\n",
    "print(angka)"
   ]
  }
 ],
 "metadata": {
  "kernelspec": {
   "display_name": "Python 3",
   "language": "python",
   "name": "python3"
  },
  "language_info": {
   "codemirror_mode": {
    "name": "ipython",
    "version": 3
   },
   "file_extension": ".py",
   "mimetype": "text/x-python",
   "name": "python",
   "nbconvert_exporter": "python",
   "pygments_lexer": "ipython3",
   "version": "3.7.3"
  }
 },
 "nbformat": 4,
 "nbformat_minor": 2
}
